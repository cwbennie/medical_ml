{
 "cells": [
  {
   "cell_type": "markdown",
   "metadata": {},
   "source": [
    "## Training MURA from scracth"
   ]
  },
  {
   "cell_type": "code",
   "execution_count": 4,
   "metadata": {},
   "outputs": [],
   "source": [
    "# %reload_ext autoreload\n",
    "# %autoreload 2\n",
    "# %matplotlib inline\n",
    "import matplotlib.pyplot as plt\n",
    "\n",
    "import numpy as np\n",
    "import pandas as pd\n",
    "\n",
    "from pathlib import Path\n",
    "from sklearn import metrics\n",
    "import random\n",
    "\n",
    "import torch\n",
    "from torch.utils.data import Dataset, DataLoader\n",
    "import torch.optim as optim\n",
    "import torch.nn as nn\n",
    "import torch.nn.functional as F\n",
    "from torchvision import models\n",
    "\n",
    "from datetime import datetime\n",
    "import cv2\n",
    "import albumentations as A\n",
    "from albumentations.pytorch import ToTensorV2\n",
    "import utils"
   ]
  },
  {
   "cell_type": "code",
   "execution_count": 2,
   "metadata": {},
   "outputs": [],
   "source": [
    "import os\n",
    "from tqdm import tqdm_notebook"
   ]
  },
  {
   "cell_type": "code",
   "execution_count": 5,
   "metadata": {},
   "outputs": [
    {
     "data": {
      "text/plain": [
       "[PosixPath('/home/datasets/MURA/train_350_270'),\n",
       " PosixPath('/home/datasets/MURA/MURA-v1.1'),\n",
       " PosixPath('/home/datasets/MURA/MURA-v1.1.zip'),\n",
       " PosixPath('/home/datasets/MURA/valid_350_270')]"
      ]
     },
     "execution_count": 5,
     "metadata": {},
     "output_type": "execute_result"
    }
   ],
   "source": [
    "PATH = Path(\"/home/datasets/MURA/\")\n",
    "list(PATH.iterdir())"
   ]
  },
  {
   "cell_type": "markdown",
   "metadata": {},
   "source": [
    "## Preprocessing "
   ]
  },
  {
   "cell_type": "code",
   "execution_count": 6,
   "metadata": {},
   "outputs": [],
   "source": [
    "def read_image(path):\n",
    "    im = cv2.imread(str(path))\n",
    "    return cv2.cvtColor(im, cv2.COLOR_BGR2RGB)"
   ]
  },
  {
   "cell_type": "code",
   "execution_count": 7,
   "metadata": {},
   "outputs": [],
   "source": [
    "def get_base_path(path):\n",
    "    return os.path.split(path)[0] + \"/\""
   ]
  },
  {
   "cell_type": "code",
   "execution_count": 8,
   "metadata": {},
   "outputs": [],
   "source": [
    "df = pd.read_csv(PATH/\"MURA-v1.1/train_image_paths.csv\", header=None, names=[\"image_name\"])\n",
    "df2 = pd.read_csv(PATH/\"MURA-v1.1/train_labeled_studies.csv\", header=None, names=[\"path\", \"label\"])\n",
    "df[\"path\"] = df[\"image_name\"].apply(get_base_path)\n",
    "result = pd.merge(df, df2, on='path')\n",
    "result[\"image_id\"] = result.index\n",
    "result.to_csv(PATH/\"MURA-v1.1/train_path_labels.csv\")"
   ]
  },
  {
   "cell_type": "code",
   "execution_count": 9,
   "metadata": {},
   "outputs": [],
   "source": [
    "df3 = pd.read_csv(PATH/\"MURA-v1.1/valid_image_paths.csv\", header=None, names=[\"image_name\"])\n",
    "df4 = pd.read_csv(PATH/\"MURA-v1.1/valid_labeled_studies.csv\", header=None, names=[\"path\", \"label\"])\n",
    "df3[\"path\"] = df3[\"image_name\"].apply(get_base_path)\n",
    "result2 = pd.merge(df3, df4, on='path')\n",
    "result2[\"image_id\"] = result2.index\n",
    "result2.to_csv(PATH/\"MURA-v1.1/valid_path_labels.csv\")"
   ]
  },
  {
   "cell_type": "code",
   "execution_count": 25,
   "metadata": {},
   "outputs": [
    {
     "data": {
      "text/html": [
       "<div>\n",
       "<style scoped>\n",
       "    .dataframe tbody tr th:only-of-type {\n",
       "        vertical-align: middle;\n",
       "    }\n",
       "\n",
       "    .dataframe tbody tr th {\n",
       "        vertical-align: top;\n",
       "    }\n",
       "\n",
       "    .dataframe thead th {\n",
       "        text-align: right;\n",
       "    }\n",
       "</style>\n",
       "<table border=\"1\" class=\"dataframe\">\n",
       "  <thead>\n",
       "    <tr style=\"text-align: right;\">\n",
       "      <th></th>\n",
       "      <th>image_name</th>\n",
       "      <th>path</th>\n",
       "      <th>label</th>\n",
       "      <th>image_id</th>\n",
       "    </tr>\n",
       "  </thead>\n",
       "  <tbody>\n",
       "    <tr>\n",
       "      <th>0</th>\n",
       "      <td>MURA-v1.1/train/XR_SHOULDER/patient00001/study...</td>\n",
       "      <td>MURA-v1.1/train/XR_SHOULDER/patient00001/study...</td>\n",
       "      <td>1</td>\n",
       "      <td>0</td>\n",
       "    </tr>\n",
       "    <tr>\n",
       "      <th>1</th>\n",
       "      <td>MURA-v1.1/train/XR_SHOULDER/patient00001/study...</td>\n",
       "      <td>MURA-v1.1/train/XR_SHOULDER/patient00001/study...</td>\n",
       "      <td>1</td>\n",
       "      <td>1</td>\n",
       "    </tr>\n",
       "    <tr>\n",
       "      <th>2</th>\n",
       "      <td>MURA-v1.1/train/XR_SHOULDER/patient00001/study...</td>\n",
       "      <td>MURA-v1.1/train/XR_SHOULDER/patient00001/study...</td>\n",
       "      <td>1</td>\n",
       "      <td>2</td>\n",
       "    </tr>\n",
       "    <tr>\n",
       "      <th>3</th>\n",
       "      <td>MURA-v1.1/train/XR_SHOULDER/patient00002/study...</td>\n",
       "      <td>MURA-v1.1/train/XR_SHOULDER/patient00002/study...</td>\n",
       "      <td>1</td>\n",
       "      <td>3</td>\n",
       "    </tr>\n",
       "    <tr>\n",
       "      <th>4</th>\n",
       "      <td>MURA-v1.1/train/XR_SHOULDER/patient00002/study...</td>\n",
       "      <td>MURA-v1.1/train/XR_SHOULDER/patient00002/study...</td>\n",
       "      <td>1</td>\n",
       "      <td>4</td>\n",
       "    </tr>\n",
       "  </tbody>\n",
       "</table>\n",
       "</div>"
      ],
      "text/plain": [
       "                                          image_name  \\\n",
       "0  MURA-v1.1/train/XR_SHOULDER/patient00001/study...   \n",
       "1  MURA-v1.1/train/XR_SHOULDER/patient00001/study...   \n",
       "2  MURA-v1.1/train/XR_SHOULDER/patient00001/study...   \n",
       "3  MURA-v1.1/train/XR_SHOULDER/patient00002/study...   \n",
       "4  MURA-v1.1/train/XR_SHOULDER/patient00002/study...   \n",
       "\n",
       "                                                path  label  image_id  \n",
       "0  MURA-v1.1/train/XR_SHOULDER/patient00001/study...      1         0  \n",
       "1  MURA-v1.1/train/XR_SHOULDER/patient00001/study...      1         1  \n",
       "2  MURA-v1.1/train/XR_SHOULDER/patient00001/study...      1         2  \n",
       "3  MURA-v1.1/train/XR_SHOULDER/patient00002/study...      1         3  \n",
       "4  MURA-v1.1/train/XR_SHOULDER/patient00002/study...      1         4  "
      ]
     },
     "execution_count": 25,
     "metadata": {},
     "output_type": "execute_result"
    }
   ],
   "source": [
    "result.head()"
   ]
  },
  {
   "cell_type": "code",
   "execution_count": 26,
   "metadata": {},
   "outputs": [
    {
     "data": {
      "text/plain": [
       "'patient00001'"
      ]
     },
     "execution_count": 26,
     "metadata": {},
     "output_type": "execute_result"
    }
   ],
   "source": [
    "result.path.values[0].split(\"/\")[3]"
   ]
  },
  {
   "cell_type": "code",
   "execution_count": 27,
   "metadata": {},
   "outputs": [],
   "source": [
    "def get_patient_id(path):\n",
    "    return path.split(\"/\")[3]"
   ]
  },
  {
   "cell_type": "code",
   "execution_count": 28,
   "metadata": {},
   "outputs": [],
   "source": [
    "result[\"patient_id\"] = result[\"path\"].apply(get_patient_id)"
   ]
  },
  {
   "cell_type": "code",
   "execution_count": 29,
   "metadata": {},
   "outputs": [
    {
     "data": {
      "text/plain": [
       "11184"
      ]
     },
     "execution_count": 29,
     "metadata": {},
     "output_type": "execute_result"
    }
   ],
   "source": [
    "len(result[\"patient_id\"].unique())"
   ]
  },
  {
   "cell_type": "code",
   "execution_count": 35,
   "metadata": {},
   "outputs": [
    {
     "data": {
      "text/plain": [
       "array(['patient00001', 'patient00002', 'patient00003'], dtype=object)"
      ]
     },
     "execution_count": 35,
     "metadata": {},
     "output_type": "execute_result"
    }
   ],
   "source": [
    "sample_example = result[\"patient_id\"].unique()[:3]\n",
    "sample_example"
   ]
  },
  {
   "cell_type": "code",
   "execution_count": 36,
   "metadata": {},
   "outputs": [],
   "source": [
    "sample_df = result[result.patient_id.isin(sample_example)]"
   ]
  },
  {
   "cell_type": "code",
   "execution_count": 37,
   "metadata": {},
   "outputs": [
    {
     "data": {
      "text/html": [
       "<div>\n",
       "<style scoped>\n",
       "    .dataframe tbody tr th:only-of-type {\n",
       "        vertical-align: middle;\n",
       "    }\n",
       "\n",
       "    .dataframe tbody tr th {\n",
       "        vertical-align: top;\n",
       "    }\n",
       "\n",
       "    .dataframe thead th {\n",
       "        text-align: right;\n",
       "    }\n",
       "</style>\n",
       "<table border=\"1\" class=\"dataframe\">\n",
       "  <thead>\n",
       "    <tr style=\"text-align: right;\">\n",
       "      <th></th>\n",
       "      <th>image_name</th>\n",
       "      <th>path</th>\n",
       "      <th>label</th>\n",
       "      <th>image_id</th>\n",
       "      <th>patient_id</th>\n",
       "    </tr>\n",
       "  </thead>\n",
       "  <tbody>\n",
       "    <tr>\n",
       "      <th>0</th>\n",
       "      <td>MURA-v1.1/train/XR_SHOULDER/patient00001/study...</td>\n",
       "      <td>MURA-v1.1/train/XR_SHOULDER/patient00001/study...</td>\n",
       "      <td>1</td>\n",
       "      <td>0</td>\n",
       "      <td>patient00001</td>\n",
       "    </tr>\n",
       "    <tr>\n",
       "      <th>1</th>\n",
       "      <td>MURA-v1.1/train/XR_SHOULDER/patient00001/study...</td>\n",
       "      <td>MURA-v1.1/train/XR_SHOULDER/patient00001/study...</td>\n",
       "      <td>1</td>\n",
       "      <td>1</td>\n",
       "      <td>patient00001</td>\n",
       "    </tr>\n",
       "    <tr>\n",
       "      <th>2</th>\n",
       "      <td>MURA-v1.1/train/XR_SHOULDER/patient00001/study...</td>\n",
       "      <td>MURA-v1.1/train/XR_SHOULDER/patient00001/study...</td>\n",
       "      <td>1</td>\n",
       "      <td>2</td>\n",
       "      <td>patient00001</td>\n",
       "    </tr>\n",
       "    <tr>\n",
       "      <th>3</th>\n",
       "      <td>MURA-v1.1/train/XR_SHOULDER/patient00002/study...</td>\n",
       "      <td>MURA-v1.1/train/XR_SHOULDER/patient00002/study...</td>\n",
       "      <td>1</td>\n",
       "      <td>3</td>\n",
       "      <td>patient00002</td>\n",
       "    </tr>\n",
       "    <tr>\n",
       "      <th>4</th>\n",
       "      <td>MURA-v1.1/train/XR_SHOULDER/patient00002/study...</td>\n",
       "      <td>MURA-v1.1/train/XR_SHOULDER/patient00002/study...</td>\n",
       "      <td>1</td>\n",
       "      <td>4</td>\n",
       "      <td>patient00002</td>\n",
       "    </tr>\n",
       "    <tr>\n",
       "      <th>5</th>\n",
       "      <td>MURA-v1.1/train/XR_SHOULDER/patient00002/study...</td>\n",
       "      <td>MURA-v1.1/train/XR_SHOULDER/patient00002/study...</td>\n",
       "      <td>1</td>\n",
       "      <td>5</td>\n",
       "      <td>patient00002</td>\n",
       "    </tr>\n",
       "    <tr>\n",
       "      <th>6</th>\n",
       "      <td>MURA-v1.1/train/XR_SHOULDER/patient00003/study...</td>\n",
       "      <td>MURA-v1.1/train/XR_SHOULDER/patient00003/study...</td>\n",
       "      <td>1</td>\n",
       "      <td>6</td>\n",
       "      <td>patient00003</td>\n",
       "    </tr>\n",
       "    <tr>\n",
       "      <th>7</th>\n",
       "      <td>MURA-v1.1/train/XR_SHOULDER/patient00003/study...</td>\n",
       "      <td>MURA-v1.1/train/XR_SHOULDER/patient00003/study...</td>\n",
       "      <td>1</td>\n",
       "      <td>7</td>\n",
       "      <td>patient00003</td>\n",
       "    </tr>\n",
       "    <tr>\n",
       "      <th>8</th>\n",
       "      <td>MURA-v1.1/train/XR_SHOULDER/patient00003/study...</td>\n",
       "      <td>MURA-v1.1/train/XR_SHOULDER/patient00003/study...</td>\n",
       "      <td>1</td>\n",
       "      <td>8</td>\n",
       "      <td>patient00003</td>\n",
       "    </tr>\n",
       "  </tbody>\n",
       "</table>\n",
       "</div>"
      ],
      "text/plain": [
       "                                          image_name  \\\n",
       "0  MURA-v1.1/train/XR_SHOULDER/patient00001/study...   \n",
       "1  MURA-v1.1/train/XR_SHOULDER/patient00001/study...   \n",
       "2  MURA-v1.1/train/XR_SHOULDER/patient00001/study...   \n",
       "3  MURA-v1.1/train/XR_SHOULDER/patient00002/study...   \n",
       "4  MURA-v1.1/train/XR_SHOULDER/patient00002/study...   \n",
       "5  MURA-v1.1/train/XR_SHOULDER/patient00002/study...   \n",
       "6  MURA-v1.1/train/XR_SHOULDER/patient00003/study...   \n",
       "7  MURA-v1.1/train/XR_SHOULDER/patient00003/study...   \n",
       "8  MURA-v1.1/train/XR_SHOULDER/patient00003/study...   \n",
       "\n",
       "                                                path  label  image_id  \\\n",
       "0  MURA-v1.1/train/XR_SHOULDER/patient00001/study...      1         0   \n",
       "1  MURA-v1.1/train/XR_SHOULDER/patient00001/study...      1         1   \n",
       "2  MURA-v1.1/train/XR_SHOULDER/patient00001/study...      1         2   \n",
       "3  MURA-v1.1/train/XR_SHOULDER/patient00002/study...      1         3   \n",
       "4  MURA-v1.1/train/XR_SHOULDER/patient00002/study...      1         4   \n",
       "5  MURA-v1.1/train/XR_SHOULDER/patient00002/study...      1         5   \n",
       "6  MURA-v1.1/train/XR_SHOULDER/patient00003/study...      1         6   \n",
       "7  MURA-v1.1/train/XR_SHOULDER/patient00003/study...      1         7   \n",
       "8  MURA-v1.1/train/XR_SHOULDER/patient00003/study...      1         8   \n",
       "\n",
       "     patient_id  \n",
       "0  patient00001  \n",
       "1  patient00001  \n",
       "2  patient00001  \n",
       "3  patient00002  \n",
       "4  patient00002  \n",
       "5  patient00002  \n",
       "6  patient00003  \n",
       "7  patient00003  \n",
       "8  patient00003  "
      ]
     },
     "execution_count": 37,
     "metadata": {},
     "output_type": "execute_result"
    }
   ],
   "source": [
    "sample_df"
   ]
  },
  {
   "cell_type": "code",
   "execution_count": 25,
   "metadata": {},
   "outputs": [],
   "source": [
    "sizes = [read_image(PATH/x).shape for x in df[\"image_name\"].values]"
   ]
  },
  {
   "cell_type": "code",
   "execution_count": 49,
   "metadata": {},
   "outputs": [
    {
     "data": {
      "text/plain": [
       "177.80700000000002"
      ]
     },
     "execution_count": 49,
     "metadata": {},
     "output_type": "execute_result"
    }
   ],
   "source": [
    "np.quantile([x[0] for x in sizes], 0.001)"
   ]
  },
  {
   "cell_type": "code",
   "execution_count": 28,
   "metadata": {},
   "outputs": [],
   "source": [
    "sz = {}\n",
    "for x in sizes:\n",
    "    sz[x] = sz.get(x, 0) + 1"
   ]
  },
  {
   "cell_type": "code",
   "execution_count": 32,
   "metadata": {},
   "outputs": [],
   "source": [
    "sz2 = {}\n",
    "for x in sizes:\n",
    "    ratio = x[0]/x[1]\n",
    "    key = str(round(ratio,1))\n",
    "    sz2[key] = sz2.get(key, 0) + 1"
   ]
  },
  {
   "cell_type": "code",
   "execution_count": 38,
   "metadata": {},
   "outputs": [],
   "source": [
    "x, y = [float(x) for x in sz2.keys()], sz2.values()"
   ]
  },
  {
   "cell_type": "code",
   "execution_count": 41,
   "metadata": {},
   "outputs": [
    {
     "data": {
      "text/plain": [
       "<BarContainer object of 50 artists>"
      ]
     },
     "execution_count": 41,
     "metadata": {},
     "output_type": "execute_result"
    },
    {
     "data": {
      "image/png": "[encoded data removed]",
      "text/plain": [
       "<Figure size 432x288 with 1 Axes>"
      ]
     },
     "metadata": {
      "needs_background": "light"
     },
     "output_type": "display_data"
    }
   ],
   "source": [
    "plt.bar(x, y)"
   ]
  },
  {
   "cell_type": "code",
   "execution_count": 56,
   "metadata": {},
   "outputs": [
    {
     "data": {
      "text/html": [
       "<div>\n",
       "<style scoped>\n",
       "    .dataframe tbody tr th:only-of-type {\n",
       "        vertical-align: middle;\n",
       "    }\n",
       "\n",
       "    .dataframe tbody tr th {\n",
       "        vertical-align: top;\n",
       "    }\n",
       "\n",
       "    .dataframe thead th {\n",
       "        text-align: right;\n",
       "    }\n",
       "</style>\n",
       "<table border=\"1\" class=\"dataframe\">\n",
       "  <thead>\n",
       "    <tr style=\"text-align: right;\">\n",
       "      <th></th>\n",
       "      <th>image_name</th>\n",
       "    </tr>\n",
       "  </thead>\n",
       "  <tbody>\n",
       "    <tr>\n",
       "      <th>0</th>\n",
       "      <td>MURA-v1.1/train/XR_SHOULDER/patient00001/study...</td>\n",
       "    </tr>\n",
       "    <tr>\n",
       "      <th>1</th>\n",
       "      <td>MURA-v1.1/train/XR_SHOULDER/patient00001/study...</td>\n",
       "    </tr>\n",
       "    <tr>\n",
       "      <th>2</th>\n",
       "      <td>MURA-v1.1/train/XR_SHOULDER/patient00001/study...</td>\n",
       "    </tr>\n",
       "    <tr>\n",
       "      <th>3</th>\n",
       "      <td>MURA-v1.1/train/XR_SHOULDER/patient00002/study...</td>\n",
       "    </tr>\n",
       "    <tr>\n",
       "      <th>4</th>\n",
       "      <td>MURA-v1.1/train/XR_SHOULDER/patient00002/study...</td>\n",
       "    </tr>\n",
       "  </tbody>\n",
       "</table>\n",
       "</div>"
      ],
      "text/plain": [
       "                                          image_name\n",
       "0  MURA-v1.1/train/XR_SHOULDER/patient00001/study...\n",
       "1  MURA-v1.1/train/XR_SHOULDER/patient00001/study...\n",
       "2  MURA-v1.1/train/XR_SHOULDER/patient00001/study...\n",
       "3  MURA-v1.1/train/XR_SHOULDER/patient00002/study...\n",
       "4  MURA-v1.1/train/XR_SHOULDER/patient00002/study..."
      ]
     },
     "execution_count": 56,
     "metadata": {},
     "output_type": "execute_result"
    }
   ],
   "source": [
    "df.head()"
   ]
  },
  {
   "cell_type": "code",
   "execution_count": 118,
   "metadata": {},
   "outputs": [
    {
     "data": {
      "text/plain": [
       "PosixPath('/data2/yinterian/mura/MURA-v1.1/train/XR_SHOULDER/patient00027/study1_positive/image1.png')"
      ]
     },
     "execution_count": 118,
     "metadata": {},
     "output_type": "execute_result"
    }
   ],
   "source": [
    "path = PATH/df[\"image_name\"].values[74]\n",
    "path"
   ]
  },
  {
   "cell_type": "code",
   "execution_count": 113,
   "metadata": {},
   "outputs": [
    {
     "data": {
      "text/plain": [
       "(512, 406, 3)"
      ]
     },
     "execution_count": 113,
     "metadata": {},
     "output_type": "execute_result"
    },
    {
     "data": {
      "image/png": "[encoded data removed]",
      "text/plain": [
       "<Figure size 432x288 with 1 Axes>"
      ]
     },
     "metadata": {
      "needs_background": "light"
     },
     "output_type": "display_data"
    }
   ],
   "source": [
    "im = read_image(path)\n",
    "plt.imshow(im)\n",
    "im.shape"
   ]
  },
  {
   "cell_type": "code",
   "execution_count": 120,
   "metadata": {},
   "outputs": [],
   "source": [
    "def get_a_crop(path, sz=(270, 350)):\n",
    "    im = cv2.imread(str(path))\n",
    "    r,c,_ = im.shape\n",
    "    ratio = r/c\n",
    "    if ratio > 1.3:\n",
    "        pad = int((r/1.3-c)/2)\n",
    "        im2 = cv2.copyMakeBorder(im, 0, 0, pad, pad, cv2.BORDER_CONSTANT)\n",
    "    else:\n",
    "        pad = int((1.3*c -r)/2)\n",
    "        im2 = cv2.copyMakeBorder(im, pad, pad , 0, 0, cv2.BORDER_CONSTANT)\n",
    "    return cv2.resize(im2, sz)"
   ]
  },
  {
   "cell_type": "code",
   "execution_count": 121,
   "metadata": {},
   "outputs": [
    {
     "data": {
      "text/plain": [
       "(350, 270, 3)"
      ]
     },
     "execution_count": 121,
     "metadata": {},
     "output_type": "execute_result"
    },
    {
     "data": {
      "image/png": "[encoded data removed]",
      "text/plain": [
       "<Figure size 432x288 with 1 Axes>"
      ]
     },
     "metadata": {
      "needs_background": "light"
     },
     "output_type": "display_data"
    }
   ],
   "source": [
    "im2 = get_a_crop(path)\n",
    "plt.imshow(im2)\n",
    "im2.shape"
   ]
  },
  {
   "cell_type": "code",
   "execution_count": 194,
   "metadata": {},
   "outputs": [],
   "source": [
    "from os import listdir\n",
    "from os.path import join\n",
    "def resize_all_images(df, new_dir):\n",
    "    for i in range(len(df)):\n",
    "        row = df.iloc[i,:]\n",
    "        f = PATH/row[\"image_name\"]\n",
    "        img = get_a_crop(f)\n",
    "        new_path = new_dir/\"image-{}.png\".format(row[\"image_id\"])\n",
    "        cv2.imwrite(str(new_path), img)"
   ]
  },
  {
   "cell_type": "code",
   "execution_count": 195,
   "metadata": {},
   "outputs": [
    {
     "data": {
      "text/html": [
       "<div>\n",
       "<style scoped>\n",
       "    .dataframe tbody tr th:only-of-type {\n",
       "        vertical-align: middle;\n",
       "    }\n",
       "\n",
       "    .dataframe tbody tr th {\n",
       "        vertical-align: top;\n",
       "    }\n",
       "\n",
       "    .dataframe thead th {\n",
       "        text-align: right;\n",
       "    }\n",
       "</style>\n",
       "<table border=\"1\" class=\"dataframe\">\n",
       "  <thead>\n",
       "    <tr style=\"text-align: right;\">\n",
       "      <th></th>\n",
       "      <th>Unnamed: 0</th>\n",
       "      <th>image_name</th>\n",
       "      <th>path</th>\n",
       "      <th>label</th>\n",
       "      <th>image_id</th>\n",
       "    </tr>\n",
       "  </thead>\n",
       "  <tbody>\n",
       "    <tr>\n",
       "      <th>0</th>\n",
       "      <td>0</td>\n",
       "      <td>MURA-v1.1/train/XR_SHOULDER/patient00001/study...</td>\n",
       "      <td>MURA-v1.1/train/XR_SHOULDER/patient00001/study...</td>\n",
       "      <td>1</td>\n",
       "      <td>0</td>\n",
       "    </tr>\n",
       "    <tr>\n",
       "      <th>1</th>\n",
       "      <td>1</td>\n",
       "      <td>MURA-v1.1/train/XR_SHOULDER/patient00001/study...</td>\n",
       "      <td>MURA-v1.1/train/XR_SHOULDER/patient00001/study...</td>\n",
       "      <td>1</td>\n",
       "      <td>1</td>\n",
       "    </tr>\n",
       "    <tr>\n",
       "      <th>2</th>\n",
       "      <td>2</td>\n",
       "      <td>MURA-v1.1/train/XR_SHOULDER/patient00001/study...</td>\n",
       "      <td>MURA-v1.1/train/XR_SHOULDER/patient00001/study...</td>\n",
       "      <td>1</td>\n",
       "      <td>2</td>\n",
       "    </tr>\n",
       "    <tr>\n",
       "      <th>3</th>\n",
       "      <td>3</td>\n",
       "      <td>MURA-v1.1/train/XR_SHOULDER/patient00002/study...</td>\n",
       "      <td>MURA-v1.1/train/XR_SHOULDER/patient00002/study...</td>\n",
       "      <td>1</td>\n",
       "      <td>3</td>\n",
       "    </tr>\n",
       "  </tbody>\n",
       "</table>\n",
       "</div>"
      ],
      "text/plain": [
       "   Unnamed: 0                                         image_name  \\\n",
       "0           0  MURA-v1.1/train/XR_SHOULDER/patient00001/study...   \n",
       "1           1  MURA-v1.1/train/XR_SHOULDER/patient00001/study...   \n",
       "2           2  MURA-v1.1/train/XR_SHOULDER/patient00001/study...   \n",
       "3           3  MURA-v1.1/train/XR_SHOULDER/patient00002/study...   \n",
       "\n",
       "                                                path  label  image_id  \n",
       "0  MURA-v1.1/train/XR_SHOULDER/patient00001/study...      1         0  \n",
       "1  MURA-v1.1/train/XR_SHOULDER/patient00001/study...      1         1  \n",
       "2  MURA-v1.1/train/XR_SHOULDER/patient00001/study...      1         2  \n",
       "3  MURA-v1.1/train/XR_SHOULDER/patient00002/study...      1         3  "
      ]
     },
     "execution_count": 195,
     "metadata": {},
     "output_type": "execute_result"
    }
   ],
   "source": [
    "df = pd.read_csv(PATH/\"MURA-v1.1/train_path_labels.csv\")\n",
    "df[:4]"
   ]
  },
  {
   "cell_type": "code",
   "execution_count": 196,
   "metadata": {},
   "outputs": [],
   "source": [
    "#resize_all_images(df, PATH/\"train_350_270\")"
   ]
  },
  {
   "cell_type": "code",
   "execution_count": 197,
   "metadata": {},
   "outputs": [],
   "source": [
    "df2 = pd.read_csv(PATH/\"MURA-v1.1/valid_path_labels.csv\")\n",
    "#resize_all_images(df2, PATH/\"valid_350_270\")"
   ]
  },
  {
   "cell_type": "code",
   "execution_count": null,
   "metadata": {},
   "outputs": [],
   "source": [
    "df = pd.read_csv(PATH/\"MURA-v1.1/train_image_paths.csv\", header=None, names=[\"image_name\"])"
   ]
  },
  {
   "cell_type": "code",
   "execution_count": 123,
   "metadata": {},
   "outputs": [
    {
     "data": {
      "text/plain": [
       "PosixPath('/data2/yinterian/mura')"
      ]
     },
     "execution_count": 123,
     "metadata": {},
     "output_type": "execute_result"
    }
   ],
   "source": [
    "PATH"
   ]
  },
  {
   "cell_type": "code",
   "execution_count": 116,
   "metadata": {},
   "outputs": [
    {
     "data": {
      "text/plain": [
       "1.2610837438423645"
      ]
     },
     "execution_count": 116,
     "metadata": {},
     "output_type": "execute_result"
    }
   ],
   "source": [
    "512/406"
   ]
  },
  {
   "cell_type": "code",
   "execution_count": 85,
   "metadata": {},
   "outputs": [
    {
     "data": {
      "text/plain": [
       "1.257985257985258"
      ]
     },
     "execution_count": 85,
     "metadata": {},
     "output_type": "execute_result"
    }
   ],
   "source": [
    "512/407"
   ]
  },
  {
   "cell_type": "code",
   "execution_count": 82,
   "metadata": {},
   "outputs": [
    {
     "data": {
      "text/plain": [
       "14.846153846153811"
      ]
     },
     "execution_count": 82,
     "metadata": {},
     "output_type": "execute_result"
    }
   ],
   "source": [
    "r/1.3-c"
   ]
  },
  {
   "cell_type": "markdown",
   "metadata": {},
   "source": [
    "## Random transforms"
   ]
  },
  {
   "cell_type": "code",
   "execution_count": 4,
   "metadata": {},
   "outputs": [],
   "source": [
    "def crop(im, r, c, target_r, target_c): return im[r:r+target_r, c:c+target_c]\n",
    "\n",
    "def random_crop(x):\n",
    "    \"\"\" Returns a random crop\"\"\"\n",
    "    r, c,*_ = x.shape\n",
    "    r, c,*_ = x.shape\n",
    "    r_pix = 8\n",
    "    c_pix = round(r_pix*c/r)\n",
    "    rand_r = random.uniform(0, 1)\n",
    "    rand_c = random.uniform(0, 1)\n",
    "    start_r = np.floor(2*rand_r*r_pix).astype(int)\n",
    "    start_c = np.floor(2*rand_c*c_pix).astype(int)\n",
    "    return crop(x, start_r, start_c, r-2*r_pix, c-2*c_pix)\n",
    "\n",
    "def center_crop(x):\n",
    "    r, c,*_ = x.shape\n",
    "    r_pix = 8\n",
    "    c_pix = round(r_pix*c/r)\n",
    "    return crop(x, r_pix, c_pix, r-2*r_pix, c-2*c_pix)\n",
    "\n",
    "\n",
    "def rotate_cv(im, deg, mode=cv2.BORDER_REFLECT, interpolation=cv2.INTER_AREA):\n",
    "    \"\"\" Rotates an image by deg degrees\"\"\"\n",
    "    r,c,*_ = im.shape\n",
    "    M = cv2.getRotationMatrix2D((c/2,r/2),deg,1)\n",
    "    return cv2.warpAffine(im,M,(c,r), borderMode=mode, \n",
    "                          flags=cv2.WARP_FILL_OUTLIERS+interpolation)"
   ]
  },
  {
   "cell_type": "markdown",
   "metadata": {},
   "source": [
    "## Dataset"
   ]
  },
  {
   "cell_type": "code",
   "execution_count": 5,
   "metadata": {},
   "outputs": [],
   "source": [
    "def norm_for_imageNet(img):\n",
    "    imagenet_stats = np.array([[0.485, 0.456, 0.406], [0.229, 0.224, 0.225]])\n",
    "    return (img - imagenet_stats[0])/imagenet_stats[1]"
   ]
  },
  {
   "cell_type": "code",
   "execution_count": 6,
   "metadata": {},
   "outputs": [],
   "source": [
    "class MURAXrayDataSet(Dataset):\n",
    "    \"\"\"\n",
    "    Basic Images DataSet\n",
    "    Args:\n",
    "        dataframe with data: image_id, label\n",
    "        image_path\n",
    "    \"\"\"\n",
    "\n",
    "    def __init__(self, df, image_path, transform=False):\n",
    "        self.image_id = df[\"image_id\"].values\n",
    "        self.labels = df[\"label\"].astype(int).values\n",
    "        self.image_path = image_path\n",
    "        self.transform = transform\n",
    "\n",
    "    def __getitem__(self, index):\n",
    "        image_id = self.image_id[index]\n",
    "        path = self.image_path/\"image-{}.png\".format(image_id)\n",
    "        x = cv2.imread(str(path)).astype(np.float32)\n",
    "        x = cv2.cvtColor(x, cv2.COLOR_BGR2RGB) / 255\n",
    "        if self.transform:\n",
    "            rdeg = (np.random.random()-.50)*20\n",
    "            x = rotate_cv(x, rdeg)\n",
    "            x = random_crop(x)\n",
    "            if np.random.random() > 0.5: x = np.fliplr(x).copy()\n",
    "        else:\n",
    "            x = center_crop(x)\n",
    "        x = norm_for_imageNet(x)\n",
    "        \n",
    "        y = self.labels[index]\n",
    "        y = np.expand_dims(y, axis=-1)\n",
    "        return np.rollaxis(x, 2), y\n",
    "\n",
    "    def __len__(self):\n",
    "        return len(self.image_id)"
   ]
  },
  {
   "cell_type": "code",
   "execution_count": 7,
   "metadata": {},
   "outputs": [],
   "source": [
    "train = pd.read_csv(PATH/\"MURA-v1.1/train_path_labels.csv\")\n",
    "valid = pd.read_csv(PATH/\"MURA-v1.1/valid_path_labels.csv\")\n",
    "train_ds = MURAXrayDataSet(train, PATH/\"train_350_270\", transform=True)\n",
    "valid_ds = MURAXrayDataSet(valid, PATH/\"valid_350_270\")"
   ]
  },
  {
   "cell_type": "code",
   "execution_count": 5,
   "metadata": {},
   "outputs": [],
   "source": [
    "class MuraData(Dataset):\n",
    "    def __init__(self, dir_path: Path, transform: bool = False):\n",
    "        self.image_dir = dir_path\n",
    "        self.images, self.labels, self.cats = utils.get_mura_images(self.image_dir)\n",
    "        if transform:\n",
    "            self.transforms = A.Compose([\n",
    "                # A.Resize(320, 320),\n",
    "                A.HorizontalFlip(p=0.5),\n",
    "                A.Rotate(limit=30),\n",
    "                A.Normalize(mean=[0.485, 0.456, 0.406], std=[0.229, 0.224, 0.225]),\n",
    "                ToTensorV2()\n",
    "            ])\n",
    "        else:\n",
    "            self.transforms = A.Compose([\n",
    "                # A.Resize(320, 320),\n",
    "                A.Normalize(mean=[0.485, 0.456, 0.406], std=[0.229, 0.224, 0.225]),\n",
    "                ToTensorV2()\n",
    "            ])\n",
    "        self.pos_weights, self.neg_weights = utils.get_category_counts(self.labels,\n",
    "                                                                       self.cats)\n",
    "\n",
    "    def __len__(self):\n",
    "        return len(self.labels)\n",
    "\n",
    "    def __getitem__(self, index):\n",
    "        images = self.images[index]\n",
    "        image_arr = utils.transform_image(images, self.transforms)\n",
    "        pos_category_wt = self.pos_weights[self.cats[index]]\n",
    "        neg_category_wt = self.neg_weights[self.cats[index]]\n",
    "        return image_arr, self.labels[index], (pos_category_wt, neg_category_wt)"
   ]
  },
  {
   "cell_type": "code",
   "execution_count": 6,
   "metadata": {},
   "outputs": [],
   "source": [
    "pth = Path('/home/cwbennie/data/MURA_320/train')\n",
    "mura_train = MuraData(pth, transform=True)\n",
    "mura_val = MuraData(Path('/home/cwbennie/data/MURA_320/valid'), transform=False)"
   ]
  },
  {
   "cell_type": "code",
   "execution_count": 7,
   "metadata": {},
   "outputs": [],
   "source": [
    "batch_size = 10\n",
    "train_dl = DataLoader(mura_train, batch_size=batch_size,  shuffle=True)\n",
    "valid_dl = DataLoader(mura_val, batch_size=batch_size)"
   ]
  },
  {
   "cell_type": "markdown",
   "metadata": {},
   "source": [
    "## Model "
   ]
  },
  {
   "cell_type": "code",
   "execution_count": 8,
   "metadata": {},
   "outputs": [],
   "source": [
    "class DenseNet(nn.Module):\n",
    "    def __init__(self, out_size=1):\n",
    "        super(DenseNet, self).__init__()\n",
    "        self.densenet121 = models.densenet121(pretrained=True)\n",
    "        layers = list(self.densenet121.children())[0]\n",
    "        self.groups = nn.ModuleList([nn.Sequential(*h) for h in [layers[:7], layers[7:]]])\n",
    "        self.groups.append(nn.Linear(1024, out_size))\n",
    "\n",
    "    def forward(self, x):\n",
    "        for group in self.groups[:-1]:\n",
    "            x = group(x)\n",
    "        x = F.relu(x)\n",
    "        x = nn.AdaptiveAvgPool2d((1,1))(x)\n",
    "        x = x.view(x.shape[0], -1)\n",
    "        x = self.groups[-1](x)\n",
    "        return x"
   ]
  },
  {
   "cell_type": "code",
   "execution_count": 9,
   "metadata": {},
   "outputs": [
    {
     "name": "stderr",
     "output_type": "stream",
     "text": [
      "/home/cwbennie/anaconda3/lib/python3.11/site-packages/torchvision/models/_utils.py:208: UserWarning: The parameter 'pretrained' is deprecated since 0.13 and may be removed in the future, please use 'weights' instead.\n",
      "  warnings.warn(\n",
      "/home/cwbennie/anaconda3/lib/python3.11/site-packages/torchvision/models/_utils.py:223: UserWarning: Arguments other than a weight enum or `None` for 'weights' are deprecated since 0.13 and may be removed in the future. The current behavior is equivalent to passing `weights=DenseNet121_Weights.IMAGENET1K_V1`. You can also use `weights=DenseNet121_Weights.DEFAULT` to get the most up-to-date weights.\n",
      "  warnings.warn(msg)\n"
     ]
    }
   ],
   "source": [
    "model = DenseNet().cuda()"
   ]
  },
  {
   "cell_type": "code",
   "execution_count": 11,
   "metadata": {},
   "outputs": [],
   "source": [
    "x,y, _ = next(iter(train_dl))\n",
    "x = x.float().cuda()\n",
    "y = y.float().cuda()"
   ]
  },
  {
   "cell_type": "code",
   "execution_count": 13,
   "metadata": {},
   "outputs": [
    {
     "data": {
      "text/plain": [
       "0.6266327500343323"
      ]
     },
     "execution_count": 13,
     "metadata": {},
     "output_type": "execute_result"
    }
   ],
   "source": [
    "pred = model(x)\n",
    "F.binary_cross_entropy_with_logits(pred.squeeze(), y).item()"
   ]
  },
  {
   "cell_type": "markdown",
   "metadata": {},
   "source": [
    "## Metrics"
   ]
  },
  {
   "cell_type": "code",
   "execution_count": 28,
   "metadata": {},
   "outputs": [],
   "source": [
    "def compute_auc(probs, ys):\n",
    "    probs = np.vstack(probs)\n",
    "    ys = np.vstack(ys)\n",
    "    return metrics.roc_auc_score(ys, probs)"
   ]
  },
  {
   "cell_type": "code",
   "execution_count": 29,
   "metadata": {},
   "outputs": [],
   "source": [
    "def val_metric(model, valid_dl):\n",
    "    model.eval()\n",
    "    total = 0\n",
    "    sum_loss = 0\n",
    "    probs = []\n",
    "    ys = []\n",
    "    for x, y, _ in valid_dl:\n",
    "        batch = y.shape[0]\n",
    "        x = x.cuda().float()\n",
    "        y = y.cuda().float()\n",
    "        out = model(x)\n",
    "        probs.extend(out.cpu().detach().numpy())\n",
    "        ys.extend(y.cpu().numpy())\n",
    "        loss = F.binary_cross_entropy_with_logits(out.squeeze(), y.float())\n",
    "        sum_loss += batch*(loss.item())\n",
    "        total += batch\n",
    "    auc = compute_auc(probs, ys)\n",
    "    return sum_loss/total, auc"
   ]
  },
  {
   "cell_type": "code",
   "execution_count": 27,
   "metadata": {},
   "outputs": [
    {
     "name": "stdout",
     "output_type": "stream",
     "text": [
      "{()}\n"
     ]
    },
    {
     "data": {
      "text/plain": [
       "(0.7066484597797948, 0.47056353435195314)"
      ]
     },
     "execution_count": 27,
     "metadata": {},
     "output_type": "execute_result"
    }
   ],
   "source": [
    "val_metric(model, valid_dl)"
   ]
  },
  {
   "cell_type": "markdown",
   "metadata": {},
   "source": [
    "## Training functions"
   ]
  },
  {
   "cell_type": "code",
   "execution_count": 30,
   "metadata": {},
   "outputs": [],
   "source": [
    "def cosine_segment(start_lr, end_lr, iterations):\n",
    "    i = np.arange(iterations)\n",
    "    c_i = 1 + np.cos(i*np.pi/iterations)\n",
    "    return end_lr + (start_lr - end_lr)/2 *c_i\n",
    "\n",
    "def get_cosine_triangular_lr(max_lr, iterations):\n",
    "    min_start, min_end = max_lr/25, max_lr/(25*1e4)\n",
    "    iter1 = int(0.3*iterations)\n",
    "    iter2 = iterations - iter1\n",
    "    segs = [cosine_segment(min_start, max_lr, iter1), cosine_segment(max_lr, min_end, iter2)]\n",
    "    return np.concatenate(segs)"
   ]
  },
  {
   "cell_type": "code",
   "execution_count": 31,
   "metadata": {},
   "outputs": [
    {
     "data": {
      "image/png": "[encoded data removed]",
      "text/plain": [
       "<Figure size 640x480 with 1 Axes>"
      ]
     },
     "metadata": {},
     "output_type": "display_data"
    }
   ],
   "source": [
    "N = 2000\n",
    "lr = get_cosine_triangular_lr(0.001, N)\n",
    "plt.plot(list(range(N)), lr)\n",
    "plt.show()"
   ]
  },
  {
   "cell_type": "code",
   "execution_count": 32,
   "metadata": {},
   "outputs": [],
   "source": [
    "def diff_lr(lr, alpha=1/3):\n",
    "    return [lr*alpha**i for i in range(2,-1,-1)]\n",
    "\n",
    "def create_optimizer(model, lr_0):\n",
    "    param_groups = [list(model.groups[i].parameters()) for i in range(3)]\n",
    "    params = [{'params':p, 'lr': lr} for p,lr in zip(param_groups, diff_lr(lr_0))]\n",
    "    return optim.Adam(params)\n",
    "\n",
    "def update_optimizer(optimizer, group_lrs):\n",
    "    for i, param_group in enumerate(optimizer.param_groups):\n",
    "        param_group[\"lr\"] = group_lrs[i]"
   ]
  },
  {
   "cell_type": "code",
   "execution_count": 37,
   "metadata": {},
   "outputs": [],
   "source": [
    "def train_triangular_policy(model, train_dl, valid_dl, max_lr=0.04, epochs = 5):\n",
    "    idx = 0\n",
    "    iterations = epochs*len(train_dl)\n",
    "    lrs = get_cosine_triangular_lr(max_lr, iterations)\n",
    "    optimizer = create_optimizer(model, lrs[0])\n",
    "    prev_val_auc = 0.0\n",
    "    for i in range(epochs):\n",
    "        model.train()\n",
    "        total = 0\n",
    "        sum_loss = 0\n",
    "        for i, (x, y, _) in enumerate(train_dl):\n",
    "            lr = lrs[idx]\n",
    "            update_optimizer(optimizer, [lr/9, lr/3, lr])\n",
    "            batch = y.shape[0]\n",
    "            x = x.cuda().float()\n",
    "            y = y.cuda().float()\n",
    "            out = model(x)\n",
    "            loss = F.binary_cross_entropy_with_logits(out.squeeze(), y)\n",
    "            optimizer.zero_grad()\n",
    "            loss.backward()\n",
    "            optimizer.step()\n",
    "            idx += 1\n",
    "            total += batch\n",
    "            sum_loss += batch*(loss.item())\n",
    "        train_loss = sum_loss/total\n",
    "        val_loss, val_auc = val_metric(model, valid_dl)\n",
    "        print(\"train_loss %.3f val_loss %.3f val_auc %.3f \\n\" % \n",
    "              (train_loss, val_loss, val_auc))\n",
    "        if val_auc > prev_val_auc:\n",
    "            prev_val_auc = val_auc\n",
    "            path = \"{0}/models/model_densenet_auc_1_{1:.0f}.pth\".format(PATH, 100*val_auc) \n",
    "            # save_model(model, path)\n",
    "            print(path)\n",
    "    return sum_loss/total"
   ]
  },
  {
   "cell_type": "code",
   "execution_count": 25,
   "metadata": {},
   "outputs": [],
   "source": [
    "def save_model(m, p): torch.save(m.state_dict(), p)\n",
    "    \n",
    "def load_model(m, p): m.load_state_dict(torch.load(p))\n",
    "\n",
    "def LR_range_finder(model, train_dl, lr_low=1e-4, lr_high=0.1, epochs=2):\n",
    "    losses = []\n",
    "    p = PATH/\"mode_tmp.pth\"\n",
    "    save_model(model, str(p))\n",
    "    iterations = epochs * len(train_dl)\n",
    "    delta = (lr_high - lr_low)/iterations\n",
    "    lrs = [lr_low + i*delta for i in range(iterations)]\n",
    "    optimizer = create_optimizer(model, lrs[0])\n",
    "    model.train()\n",
    "    ind = 0\n",
    "    prev_loss = 0\n",
    "    for i in range(epochs):\n",
    "        for x,y in train_dl:\n",
    "            lr = lrs[ind]\n",
    "            update_optimizer(optimizer, [lr/9, lr/3, lr])\n",
    "            x = x.cuda().float()\n",
    "            y = y.cuda().float()\n",
    "            out = model(x)\n",
    "            loss = F.binary_cross_entropy_with_logits(out, y)\n",
    "            optimizer.zero_grad()\n",
    "            loss.backward()\n",
    "            optimizer.step()\n",
    "            losses.append((prev_loss + loss.item())/2)\n",
    "            prev_loss = loss.item()\n",
    "            ind +=1\n",
    "            \n",
    "    load_model(model, str(p))\n",
    "    return lrs[1:], losses[1:]"
   ]
  },
  {
   "cell_type": "code",
   "execution_count": 33,
   "metadata": {},
   "outputs": [
    {
     "name": "stderr",
     "output_type": "stream",
     "text": [
      "/home/yinterian/anaconda3/lib/python3.6/site-packages/torchvision/models/densenet.py:212: UserWarning: nn.init.kaiming_normal is now deprecated in favor of nn.init.kaiming_normal_.\n",
      "  nn.init.kaiming_normal(m.weight.data)\n"
     ]
    }
   ],
   "source": [
    "model = DenseNet().cuda()\n",
    "lrs, losses = LR_range_finder(model, train_dl, lr_high=0.01)"
   ]
  },
  {
   "cell_type": "code",
   "execution_count": 40,
   "metadata": {},
   "outputs": [
    {
     "data": {
      "image/png": "[encoded data removed]",
      "text/plain": [
       "<Figure size 432x288 with 1 Axes>"
      ]
     },
     "metadata": {
      "needs_background": "light"
     },
     "output_type": "display_data"
    }
   ],
   "source": [
    "plt.plot(lrs[:700], losses[:700])\n",
    "plt.show()"
   ]
  },
  {
   "cell_type": "markdown",
   "metadata": {},
   "source": [
    "## Run Training"
   ]
  },
  {
   "cell_type": "code",
   "execution_count": 39,
   "metadata": {},
   "outputs": [
    {
     "name": "stdout",
     "output_type": "stream",
     "text": [
      "train_loss 0.515 val_loss 0.468 val_auc 0.870 \n",
      "\n"
     ]
    },
    {
     "ename": "NameError",
     "evalue": "name 'PATH' is not defined",
     "output_type": "error",
     "traceback": [
      "\u001b[0;31m---------------------------------------------------------------------------\u001b[0m",
      "\u001b[0;31mNameError\u001b[0m                                 Traceback (most recent call last)",
      "Cell \u001b[0;32mIn[39], line 2\u001b[0m\n\u001b[1;32m      1\u001b[0m model \u001b[38;5;241m=\u001b[39m DenseNet()\u001b[38;5;241m.\u001b[39mcuda()\n\u001b[0;32m----> 2\u001b[0m train_triangular_policy(model, train_dl, valid_dl, max_lr\u001b[38;5;241m=\u001b[39m\u001b[38;5;241m0.001\u001b[39m, epochs \u001b[38;5;241m=\u001b[39m \u001b[38;5;241m8\u001b[39m)\n",
      "Cell \u001b[0;32mIn[37], line 31\u001b[0m, in \u001b[0;36mtrain_triangular_policy\u001b[0;34m(model, train_dl, valid_dl, max_lr, epochs)\u001b[0m\n\u001b[1;32m     29\u001b[0m \u001b[38;5;28;01mif\u001b[39;00m val_auc \u001b[38;5;241m>\u001b[39m prev_val_auc:\n\u001b[1;32m     30\u001b[0m     prev_val_auc \u001b[38;5;241m=\u001b[39m val_auc\n\u001b[0;32m---> 31\u001b[0m     path \u001b[38;5;241m=\u001b[39m \u001b[38;5;124m\"\u001b[39m\u001b[38;5;132;01m{0}\u001b[39;00m\u001b[38;5;124m/models/model_densenet_auc_1_\u001b[39m\u001b[38;5;132;01m{1:.0f}\u001b[39;00m\u001b[38;5;124m.pth\u001b[39m\u001b[38;5;124m\"\u001b[39m\u001b[38;5;241m.\u001b[39mformat(PATH, \u001b[38;5;241m100\u001b[39m\u001b[38;5;241m*\u001b[39mval_auc) \n\u001b[1;32m     32\u001b[0m     \u001b[38;5;66;03m# save_model(model, path)\u001b[39;00m\n\u001b[1;32m     33\u001b[0m     \u001b[38;5;28mprint\u001b[39m(path)\n",
      "\u001b[0;31mNameError\u001b[0m: name 'PATH' is not defined"
     ]
    }
   ],
   "source": [
    "model = DenseNet().cuda()\n",
    "train_triangular_policy(model, train_dl, valid_dl, max_lr=0.001, epochs = 8)"
   ]
  },
  {
   "cell_type": "code",
   "execution_count": 45,
   "metadata": {},
   "outputs": [
    {
     "name": "stderr",
     "output_type": "stream",
     "text": [
      "/home/yinterian/anaconda3/lib/python3.6/site-packages/torchvision/models/densenet.py:212: UserWarning: nn.init.kaiming_normal is now deprecated in favor of nn.init.kaiming_normal_.\n",
      "  nn.init.kaiming_normal(m.weight.data)\n"
     ]
    },
    {
     "name": "stdout",
     "output_type": "stream",
     "text": [
      "train_loss 0.529 val_loss 0.503 val_auc 0.840 \n",
      "\n",
      "/data2/yinterian/mura/models/model_densenet_auc_84.pth\n",
      "train_loss 0.478 val_loss 0.449 val_auc 0.870 \n",
      "\n",
      "/data2/yinterian/mura/models/model_densenet_auc_87.pth\n",
      "train_loss 0.462 val_loss 0.450 val_auc 0.869 \n",
      "\n",
      "train_loss 0.437 val_loss 0.481 val_auc 0.875 \n",
      "\n",
      "/data2/yinterian/mura/models/model_densenet_auc_88.pth\n",
      "train_loss 0.410 val_loss 0.452 val_auc 0.887 \n",
      "\n",
      "/data2/yinterian/mura/models/model_densenet_auc_89.pth\n",
      "train_loss 0.376 val_loss 0.412 val_auc 0.893 \n",
      "\n",
      "/data2/yinterian/mura/models/model_densenet_auc_89.pth\n",
      "train_loss 0.340 val_loss 0.441 val_auc 0.897 \n",
      "\n",
      "/data2/yinterian/mura/models/model_densenet_auc_90.pth\n",
      "train_loss 0.317 val_loss 0.413 val_auc 0.899 \n",
      "\n",
      "/data2/yinterian/mura/models/model_densenet_auc_90.pth\n"
     ]
    },
    {
     "data": {
      "text/plain": [
       "0.31699625433739814"
      ]
     },
     "execution_count": 45,
     "metadata": {},
     "output_type": "execute_result"
    }
   ],
   "source": [
    "model = DenseNet().cuda()\n",
    "train_triangular_policy(model, train_dl, valid_dl, max_lr=0.0005, epochs = 8)"
   ]
  },
  {
   "cell_type": "code",
   "execution_count": 47,
   "metadata": {},
   "outputs": [
    {
     "name": "stderr",
     "output_type": "stream",
     "text": [
      "/home/yinterian/anaconda3/lib/python3.6/site-packages/torchvision/models/densenet.py:212: UserWarning: nn.init.kaiming_normal is now deprecated in favor of nn.init.kaiming_normal_.\n",
      "  nn.init.kaiming_normal(m.weight.data)\n"
     ]
    },
    {
     "name": "stdout",
     "output_type": "stream",
     "text": [
      "train_loss 0.588 val_loss 0.500 val_auc 0.847 \n",
      "\n",
      "/data2/yinterian/mura/models/model_densenet_auc_1_85.pth\n",
      "train_loss 0.478 val_loss 0.476 val_auc 0.866 \n",
      "\n",
      "/data2/yinterian/mura/models/model_densenet_auc_1_87.pth\n",
      "train_loss 0.445 val_loss 0.465 val_auc 0.875 \n",
      "\n",
      "/data2/yinterian/mura/models/model_densenet_auc_1_88.pth\n",
      "train_loss 0.417 val_loss 0.436 val_auc 0.885 \n",
      "\n",
      "/data2/yinterian/mura/models/model_densenet_auc_1_88.pth\n",
      "train_loss 0.388 val_loss 0.434 val_auc 0.889 \n",
      "\n",
      "/data2/yinterian/mura/models/model_densenet_auc_1_89.pth\n",
      "train_loss 0.355 val_loss 0.439 val_auc 0.888 \n",
      "\n",
      "train_loss 0.325 val_loss 0.428 val_auc 0.893 \n",
      "\n",
      "/data2/yinterian/mura/models/model_densenet_auc_1_89.pth\n",
      "train_loss 0.308 val_loss 0.453 val_auc 0.893 \n",
      "\n",
      "/data2/yinterian/mura/models/model_densenet_auc_1_89.pth\n"
     ]
    },
    {
     "data": {
      "text/plain": [
       "0.30751599009207276"
      ]
     },
     "execution_count": 47,
     "metadata": {},
     "output_type": "execute_result"
    }
   ],
   "source": [
    "model = DenseNet().cuda()\n",
    "train_triangular_policy(model, train_dl, valid_dl, max_lr=0.0001, epochs = 8)"
   ]
  },
  {
   "cell_type": "code",
   "execution_count": null,
   "metadata": {},
   "outputs": [],
   "source": []
  }
 ],
 "metadata": {
  "kernelspec": {
   "display_name": "Python 3 (ipykernel)",
   "language": "python",
   "name": "python3"
  },
  "language_info": {
   "codemirror_mode": {
    "name": "ipython",
    "version": 3
   },
   "file_extension": ".py",
   "mimetype": "text/x-python",
   "name": "python",
   "nbconvert_exporter": "python",
   "pygments_lexer": "ipython3",
   "version": "3.11.7"
  },
  "toc": {
   "base_numbering": 1,
   "nav_menu": {},
   "number_sections": true,
   "sideBar": true,
   "skip_h1_title": false,
   "title_cell": "Table of Contents",
   "title_sidebar": "Contents",
   "toc_cell": false,
   "toc_position": {},
   "toc_section_display": "block",
   "toc_window_display": false
  }
 },
 "nbformat": 4,
 "nbformat_minor": 2
}
